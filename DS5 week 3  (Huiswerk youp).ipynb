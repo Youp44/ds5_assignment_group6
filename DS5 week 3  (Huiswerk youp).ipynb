{
 "cells": [
  {
   "cell_type": "code",
   "execution_count": 1,
   "id": "57bbbbcb",
   "metadata": {},
   "outputs": [],
   "source": [
    "import pandas as pd \n",
    "import numpy as np\n",
    "import scipy.stats as sc"
   ]
  },
  {
   "cell_type": "markdown",
   "id": "acd2d729",
   "metadata": {},
   "source": [
    "## Opdracht 3"
   ]
  },
  {
   "cell_type": "code",
   "execution_count": null,
   "id": "7c211967",
   "metadata": {},
   "outputs": [
    {
     "name": "stdout",
     "output_type": "stream",
     "text": [
      "yhat = 11.837209302325581\n",
      "Cf Lower bound = 10.872232\n",
      "Cf Upper bound = 12.802187\n",
      "Pr Lower bound = 9.939693\n",
      "Pr Upper bound = 13.734725\n"
     ]
    }
   ],
   "source": [
    "inputValues = {\n",
    "    'x' : [3,4,5,7,8],\n",
    "    'y' : [4,6,7,12,14]\n",
    "}\n",
    "\n",
    "df = pd.DataFrame(inputValues)\n",
    "\n",
    "# Confidance interval \n",
    "\n",
    "r = df.corr().loc['x','y']\n",
    "\n",
    "sy = df.y.std()\n",
    "sx = df.x.std()\n",
    "\n",
    "xbar = df.x.mean()\n",
    "ybar = df.y.mean()\n",
    "\n",
    "b1 = r*(sy/sx)\n",
    "\n",
    "b0 = ybar-b1*xbar\n",
    "\n",
    "alpha = 0.05\n",
    "n = len(df)\n",
    "\n",
    "resid = df.y - (b1*df.x + b0)\n",
    "se = np.sqrt(np.sum(resid**2) / (n-2))\n",
    "\n",
    "\n",
    "x_star = 7\n",
    "yhat = b1*x_star +b0\n",
    "print(f'yhat = {yhat}')\n",
    "\n",
    "t_half_alpha = abs(sc.t.ppf(alpha/2,n-2))\n",
    "LB = yhat - t_half_alpha*se  *np.sqrt(1/n + (x_star - xbar)**2 / sum((df.x - xbar)**2))\n",
    "UB = yhat + t_half_alpha*se  *np.sqrt(1/n + (x_star - xbar)**2 / sum((df.x - xbar)**2))\n",
    "\n",
    "print(f'Cf Lower bound = {LB:4f}')\n",
    "print(f'Cf Upper bound = {UB:4f}')\n",
    "\n",
    "LB = yhat - t_half_alpha*se  *np.sqrt(1 + 1/n + (x_star - xbar)**2 / sum((df.x - xbar)**2))\n",
    "UB = yhat + t_half_alpha*se  *np.sqrt(1 + 1/n + (x_star - xbar)**2 / sum((df.x - xbar)**2))\n",
    "\n",
    "print(f'Pr Lower bound = {LB:4f}')\n",
    "print(f'Pr Upper bound = {UB:4f}')"
   ]
  },
  {
   "cell_type": "markdown",
   "id": "f2a4b8ca",
   "metadata": {},
   "source": [
    "## Opdracht 5"
   ]
  },
  {
   "cell_type": "code",
   "execution_count": 39,
   "id": "3b6553a3",
   "metadata": {},
   "outputs": [
    {
     "name": "stdout",
     "output_type": "stream",
     "text": [
      "yhat = 32.000000\n",
      "Cf Lower bound = 19.334024\n",
      "Cf Upper bound = 44.665976\n",
      "Pr Lower bound = 19.018115\n",
      "Pr Upper bound = 44.981885\n"
     ]
    }
   ],
   "source": [
    "inputValues = {\n",
    "    'x':[-2,-1,0,1,2],\n",
    "    'y':[-4,0,1,4,5]\n",
    "}\n",
    "\n",
    "df = pd.DataFrame(inputValues)\n",
    "\n",
    "r = df.corr().loc['x','y']\n",
    "\n",
    "sx = df.x.std()\n",
    "sy = df.y.std()\n",
    "\n",
    "xbar = df.x.mean()\n",
    "ybar = df.y.mean()\n",
    "\n",
    "b1 = r* (sy/sx)\n",
    "\n",
    "b0 = ybar - b1*xbar\n",
    "\n",
    "x_star = 14\n",
    "yhat = b1*x_star+b0\n",
    "print(f'yhat = {yhat:4f}')\n",
    "\n",
    "resid = df.y - (b1*df.x+b0)\n",
    "se = np.sqrt(np.sum(resid**2)/(n-2))\n",
    "\n",
    "n= len(df)\n",
    "alpha = 0.05\n",
    "t_half_alpha = abs(sc.t.ppf(alpha/2,n-2))\n",
    "\n",
    "LB = yhat - t_half_alpha*se  *np.sqrt(1/n + (x_star - xbar)**2 / sum((df.x - xbar)**2))\n",
    "UB = yhat + t_half_alpha*se  *np.sqrt(1/n + (x_star - xbar)**2 / sum((df.x - xbar)**2))\n",
    "\n",
    "print(f'Cf Lower bound = {LB:4f}')\n",
    "print(f'Cf Upper bound = {UB:4f}')\n",
    "\n",
    "LB = yhat - t_half_alpha*se  *np.sqrt(1 + 1/n + (x_star - xbar)**2 / sum((df.x - xbar)**2))\n",
    "UB = yhat + t_half_alpha*se  *np.sqrt(1 + 1/n + (x_star - xbar)**2 / sum((df.x - xbar)**2))\n",
    "\n",
    "print(f'Pr Lower bound = {LB:4f}')\n",
    "print(f'Pr Upper bound = {UB:4f}')\n"
   ]
  },
  {
   "cell_type": "markdown",
   "id": "7f2062a1",
   "metadata": {},
   "source": [
    "## Opdracht 7"
   ]
  },
  {
   "cell_type": "code",
   "execution_count": 54,
   "id": "6c154b0d",
   "metadata": {},
   "outputs": [
    {
     "name": "stdout",
     "output_type": "stream",
     "text": [
      "yhat = 68.07149998055004\n",
      "Cf Lower bound = 67.772964\n",
      "Cf Upper bound = 68.370036\n",
      "Pr Lower bound = 67.272126\n",
      "Pr Upper bound = 68.870874\n"
     ]
    }
   ],
   "source": [
    "inputValues = {\n",
    "    'Commute Time (x)': [5,15,25,35,50,72,105],\n",
    "    'Callup (y)': [69.2,68.3,67.5,67.1,66.4,66.1,63.9]\n",
    "}\n",
    "\n",
    "df = pd.DataFrame(inputValues)\n",
    "\n",
    "x_bar = df['Commute Time (x)'].mean()\n",
    "y_bar = df['Callup (y)'].mean()\n",
    "\n",
    "std_y = df['Callup (y)'].std()\n",
    "std_x = df['Commute Time (x)'].std()\n",
    "\n",
    "r = df.corr().loc['Commute Time (x)', 'Callup (y)']\n",
    "\n",
    "b1 = r * (std_y/std_x)\n",
    "\n",
    "b0 = y_bar - b1*x_bar\n",
    "\n",
    "x_star =20\n",
    "yhat = b1*x_star + b0 \n",
    "print(f'yhat = {yhat}')\n",
    "\n",
    "resid = df['Callup (y)'] - (b1*df['Commute Time (x)'] + b0)\n",
    "se = np.sqrt(sum(resid**2)/(n-2))\n",
    "\n",
    "n = len(df)\n",
    "alpha = 0.1\n",
    "t_half_alpha = abs(sc.t.ppf(alpha/2,n-2))\n",
    "\n",
    "LB = yhat - t_half_alpha*se * np.sqrt(1/n + (x_star-xbar)**2/sum((df['Commute Time (x)']-xbar)**2))\n",
    "UB = yhat + t_half_alpha*se * np.sqrt(1/n + (x_star-xbar)**2/sum((df['Commute Time (x)']-xbar)**2))\n",
    "\n",
    "print(f'Cf Lower bound = {LB:4f}')\n",
    "print(f'Cf Upper bound = {UB:4f}')\n",
    "\n",
    "LB = yhat - t_half_alpha*se  *np.sqrt(1 + 1/n + (x_star - xbar)**2 / sum((df['Commute Time (x)'] - xbar)**2))\n",
    "UB = yhat + t_half_alpha*se  *np.sqrt(1 + 1/n + (x_star - xbar)**2 / sum((df['Commute Time (x)'] - xbar)**2))\n",
    "\n",
    "print(f'Pr Lower bound = {LB:4f}')\n",
    "print(f'Pr Upper bound = {UB:4f}')\n",
    "\n",
    "# Het gaat om 1 persoon en is dus de marge voor error groter. Als je alleen die data voorspeld\n",
    "# dan maken we nog wel gebruik van yhat waardoor die in dit gevall hetzelfde blijft."
   ]
  },
  {
   "cell_type": "markdown",
   "id": "1c2fe000",
   "metadata": {},
   "source": [
    "## Opdracht 9"
   ]
  },
  {
   "cell_type": "code",
   "execution_count": null,
   "id": "1e65628f",
   "metadata": {},
   "outputs": [
    {
     "name": "stdout",
     "output_type": "stream",
     "text": [
      "yhat = 17.198529\n",
      "Cf Lower bound = 17.124058\n",
      "Cf Upper bound = 17.273000\n",
      "Pr Lower bound = 16.980703\n",
      "Pr Upper bound = 17.416356\n"
     ]
    }
   ],
   "source": [
    "inputValues = {\n",
    "    'x': [27.75,24.5,25.5,26,25,27.75,26.5,27,26.75,26.75,27.5],\n",
    "    'y':[17.5,17.1,17.1,17.3,16.9,17.6,17.3,17.5,17.3,17.5,17.5]\n",
    "}\n",
    "\n",
    "df = pd.DataFrame(inputValues)\n",
    "\n",
    "r = df.corr().loc['x','y']\n",
    "\n",
    "sx = df.x.std()\n",
    "sy = df.y.std()\n",
    "\n",
    "xbar = df.x.mean()\n",
    "ybar = df.y.mean()\n",
    "\n",
    "b1 = r* (sy/sx)\n",
    "\n",
    "b0 = ybar - b1*xbar\n",
    "\n",
    "x_star = 25.75\n",
    "yhat = b1*x_star+b0\n",
    "print(f'yhat = {yhat:4f}')\n",
    "\n",
    "resid = df.y - (b1*df.x+b0)\n",
    "se = np.sqrt(np.sum(resid**2)/(n-2))\n",
    "\n",
    "n= len(df)\n",
    "alpha = 0.05\n",
    "t_half_alpha = abs(sc.t.ppf(alpha/2,n-2))\n",
    "\n",
    "LB = yhat - t_half_alpha*se  *np.sqrt(1/n + (x_star - xbar)**2 / sum((df.x - xbar)**2))\n",
    "UB = yhat + t_half_alpha*se  *np.sqrt(1/n + (x_star - xbar)**2 / sum((df.x - xbar)**2))\n",
    "\n",
    "print(f'Cf Lower bound = {LB:4f}')\n",
    "print(f'Cf Upper bound = {UB:4f}')\n",
    "\n",
    "LB = yhat - t_half_alpha*se  *np.sqrt(1 + 1/n + (x_star - xbar)**2 / sum((df.x - xbar)**2))\n",
    "UB = yhat + t_half_alpha*se  *np.sqrt(1 + 1/n + (x_star - xbar)**2 / sum((df.x - xbar)**2))\n",
    "\n",
    "print(f'Pr Lower bound = {LB:4f}')\n",
    "print(f'Pr Upper bound = {UB:4f}')\n",
    "\n",
    "# Omdat het bij a gaat over gemiddelde en bij c over specifiek persoon\n",
    "# Daarom gebruik je ook confidance en prediction. \n",
    "# Door het gebruikt van yhat en het gemiddelde is het dus well hetzelfde "
   ]
  },
  {
   "cell_type": "markdown",
   "id": "c87ee4a8",
   "metadata": {},
   "source": [
    "## Opdracht 11"
   ]
  },
  {
   "cell_type": "code",
   "execution_count": 58,
   "id": "c3cc79af",
   "metadata": {},
   "outputs": [
    {
     "name": "stdout",
     "output_type": "stream",
     "text": [
      "yhat = 4400.429058\n",
      "Cf Lower bound = 4147.794057\n",
      "Cf Upper bound = 4653.064058\n",
      "Pr Lower bound = 3726.277610\n",
      "Pr Upper bound = 5074.580505\n"
     ]
    }
   ],
   "source": [
    "inputValues = {\n",
    "    'x': [2300,3390,2430,2890,3330,2480,3380,2660,2620,3340],\n",
    "    'y':[4070,5220,4640,4620,4850,4120,5020,4890,4190,4630]\n",
    "}\n",
    "\n",
    "df = pd.DataFrame(inputValues)\n",
    "\n",
    "r = df.corr().loc['x','y']\n",
    "\n",
    "sx = df.x.std()\n",
    "sy = df.y.std()\n",
    "\n",
    "xbar = df.x.mean()\n",
    "ybar = df.y.mean()\n",
    "\n",
    "b1 = r* (sy/sx)\n",
    "\n",
    "b0 = ybar - b1*xbar\n",
    "\n",
    "x_star = 2550\n",
    "yhat = b1*x_star+b0\n",
    "print(f'yhat = {yhat:4f}')\n",
    "\n",
    "resid = df.y - (b1*df.x+b0)\n",
    "se = np.sqrt(np.sum(resid**2)/(n-2))\n",
    "\n",
    "n= len(df)\n",
    "alpha = 0.05\n",
    "t_half_alpha = abs(sc.t.ppf(alpha/2,n-2))\n",
    "\n",
    "LB = yhat - t_half_alpha*se  *np.sqrt(1/n + (x_star - xbar)**2 / sum((df.x - xbar)**2))\n",
    "UB = yhat + t_half_alpha*se  *np.sqrt(1/n + (x_star - xbar)**2 / sum((df.x - xbar)**2))\n",
    "\n",
    "print(f'Cf Lower bound = {LB:4f}')\n",
    "print(f'Cf Upper bound = {UB:4f}')\n",
    "\n",
    "LB = yhat - t_half_alpha*se  *np.sqrt(1 + 1/n + (x_star - xbar)**2 / sum((df.x - xbar)**2))\n",
    "UB = yhat + t_half_alpha*se  *np.sqrt(1 + 1/n + (x_star - xbar)**2 / sum((df.x - xbar)**2))\n",
    "\n",
    "print(f'Pr Lower bound = {LB:4f}')\n",
    "print(f'Pr Upper bound = {UB:4f}')\n",
    "\n",
    "# Bij a gaat het over het gemiddelde waarbij dit 2550 psi is en bij c gaat het over 1 \n",
    "# Cilinder dus daarom ga je ook bij b confidance interval gebruikten en bij d prediction interval"
   ]
  },
  {
   "cell_type": "markdown",
   "id": "f0adf94d",
   "metadata": {},
   "source": [
    "## Opdracht 14"
   ]
  },
  {
   "cell_type": "code",
   "execution_count": null,
   "id": "01227b38",
   "metadata": {},
   "outputs": [
    {
     "name": "stdout",
     "output_type": "stream",
     "text": [
      "yhat = 119.278037\n",
      "Cf Lower bound = 99.885610\n",
      "Cf Upper bound = 138.670464\n",
      "Pr Lower bound = 68.920463\n",
      "Pr Upper bound = 169.635610\n"
     ]
    }
   ],
   "source": [
    "inputValues = {\n",
    "    'x': [139,138,139,120.5,149,141,141,150,166,151.5,129.5,150],\n",
    "    'y':[110,60,90,60,85,100,95,85,155,140,105,110]\n",
    "}\n",
    "\n",
    "df = pd.DataFrame(inputValues)\n",
    "\n",
    "r = df.corr().loc['x','y']\n",
    "\n",
    "sx = df.x.std()\n",
    "sy = df.y.std()\n",
    "\n",
    "xbar = df.x.mean()\n",
    "ybar = df.y.mean()\n",
    "\n",
    "b1 = r* (sy/sx)\n",
    "\n",
    "b0 = ybar - b1*xbar\n",
    "\n",
    "x_star = 154.5\n",
    "yhat = b1*x_star+b0\n",
    "print(f'yhat = {yhat:4f}')\n",
    "\n",
    "resid = df.y - (b1*df.x+b0)\n",
    "se = np.sqrt(np.sum(resid**2)/(n-2))\n",
    "\n",
    "n= len(df)\n",
    "alpha = 0.05\n",
    "t_half_alpha = abs(sc.t.ppf(alpha/2,n-2))\n",
    "\n",
    "LB = yhat - t_half_alpha*se  *np.sqrt(1/n + (x_star - xbar)**2 / sum((df.x - xbar)**2))\n",
    "UB = yhat + t_half_alpha*se  *np.sqrt(1/n + (x_star - xbar)**2 / sum((df.x - xbar)**2))\n",
    "\n",
    "print(f'Cf Lower bound = {LB:4f}')\n",
    "print(f'Cf Upper bound = {UB:4f}')\n",
    "\n",
    "LB = yhat - t_half_alpha*se  *np.sqrt(1 + 1/n + (x_star - xbar)**2 / sum((df.x - xbar)**2))\n",
    "UB = yhat + t_half_alpha*se  *np.sqrt(1 + 1/n + (x_star - xbar)**2 / sum((df.x - xbar)**2))\n",
    "\n",
    "print(f'Pr Lower bound = {LB:4f}')\n",
    "print(f'Pr Upper bound = {UB:4f}')\n",
    "\n",
    "# Omdat we dezelfde methode gebruiken je voorspelt het gemiddelde voor die aantal cm, \n",
    "# Maar we hebben het bij de eerste over het gemiddelde en bij de tweede over 1 specifieke beer. \n"
   ]
  },
  {
   "cell_type": "markdown",
   "id": "3037c2ee",
   "metadata": {},
   "source": [
    "## Opdracht 15"
   ]
  },
  {
   "cell_type": "code",
   "execution_count": null,
   "id": "8438aa3f",
   "metadata": {},
   "outputs": [
    {
     "name": "stdout",
     "output_type": "stream",
     "text": [
      "yhat = 49.733333\n",
      "Cf Lower bound = 24.477951\n",
      "Cf Upper bound = 74.988716\n"
     ]
    },
    {
     "data": {
      "image/png": "[encoded data removed]",
      "text/plain": [
       "<Figure size 640x480 with 1 Axes>"
      ]
     },
     "execution_count": 63,
     "metadata": {},
     "output_type": "execute_result"
    },
    {
     "data": {
      "image/png": "[encoded data removed]",
      "text/plain": [
       "<Figure size 640x480 with 1 Axes>"
      ]
     },
     "metadata": {},
     "output_type": "display_data"
    }
   ],
   "source": [
    "inputValues = {\n",
    "    'x': [14.53,4.09,7.11,1.05,1.97,3.76,12.06,7.62,8.47,4.04,20.87,6.63],\n",
    "    'y':[75.43,64.01,142.07,32.72,10.64,30.66,0.77,69.39,58.69,55.93,24.28,32.21]\n",
    "}\n",
    "\n",
    "df = pd.DataFrame(inputValues)\n",
    "\n",
    "r = df.corr().loc['x','y']\n",
    "\n",
    "sx = df.x.std()\n",
    "sy = df.y.std()\n",
    "\n",
    "xbar = df.x.mean()\n",
    "ybar = df.y.mean()\n",
    "\n",
    "b1 = r* (sy/sx)\n",
    "\n",
    "b0 = ybar - b1*xbar\n",
    "\n",
    "x_star = xbar\n",
    "yhat = b1*x_star+b0\n",
    "print(f'yhat = {yhat:4f}')\n",
    "\n",
    "resid = df.y - (b1*df.x+b0)\n",
    "se = np.sqrt(np.sum(resid**2)/(n-2))\n",
    "\n",
    "n= len(df)\n",
    "alpha = 0.05\n",
    "t_half_alpha = abs(sc.t.ppf(alpha/2,n-2))\n",
    "\n",
    "LB = yhat - t_half_alpha*se  *np.sqrt(1/n + (x_star - xbar)**2 / sum((df.x - xbar)**2))\n",
    "UB = yhat + t_half_alpha*se  *np.sqrt(1/n + (x_star - xbar)**2 / sum((df.x - xbar)**2))\n",
    "\n",
    "print(f'Cf Lower bound = {LB:4f}')\n",
    "print(f'Cf Upper bound = {UB:4f}')\n",
    "\n",
    "# Omdat deze data observaties zijn van een fluctueerende markt waar geen \n",
    "# Linear patroon in zit dit zie je terug in de qqplot\n",
    "\n",
    "import statsmodels.api as sm\n",
    "sm.qqplot(resid,line='45')\n"
   ]
  },
  {
   "cell_type": "code",
   "execution_count": null,
   "id": "2ef40818",
   "metadata": {},
   "outputs": [],
   "source": [
    "\n"
   ]
  }
 ],
 "metadata": {
  "kernelspec": {
   "display_name": "Python 3",
   "language": "python",
   "name": "python3"
  },
  "language_info": {
   "codemirror_mode": {
    "name": "ipython",
    "version": 3
   },
   "file_extension": ".py",
   "mimetype": "text/x-python",
   "name": "python",
   "nbconvert_exporter": "python",
   "pygments_lexer": "ipython3",
   "version": "3.11.9"
  }
 },
 "nbformat": 4,
 "nbformat_minor": 5
}
