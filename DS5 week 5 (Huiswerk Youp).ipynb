{
 "cells": [
  {
   "cell_type": "code",
   "execution_count": 1,
   "id": "09d1b806",
   "metadata": {},
   "outputs": [],
   "source": [
    "import pandas as pd \n",
    "import numpy as np\n",
    "import scipy.stats as sc\n",
    "from statsmodels.formula.api import ols\n",
    "import statsmodels.api as sm\n",
    "import matplotlib.pyplot as plt"
   ]
  },
  {
   "cell_type": "markdown",
   "id": "30b9623a",
   "metadata": {},
   "source": [
    "#### Opdrachten: Section 14.3 (p. 733): 3, 5, 7, 9, 10, 12, 15, 17, 18, 19, 20, 22\n"
   ]
  },
  {
   "cell_type": "markdown",
   "id": "45b60a81",
   "metadata": {},
   "source": [
    "## Opdracht 3"
   ]
  },
  {
   "cell_type": "code",
   "execution_count": 2,
   "id": "18e873ac",
   "metadata": {},
   "outputs": [],
   "source": [
    "# will increase by 4.39 if x2 stays constant"
   ]
  },
  {
   "cell_type": "markdown",
   "id": "fd90db57",
   "metadata": {},
   "source": [
    "## Opdracht 5"
   ]
  },
  {
   "cell_type": "code",
   "execution_count": 3,
   "id": "78b5087d",
   "metadata": {},
   "outputs": [
    {
     "name": "stdout",
     "output_type": "stream",
     "text": [
      "a) if x1 increases by 1 unit and x2 stays constant yhat will increase by 3 units\n",
      "for x2 states the same other way around, so will decrease by 4 units\n",
      "e) by increasing x1 the starting point will be higher on the y-axis\n"
     ]
    },
    {
     "data": {
      "image/png": "[encoded data removed]",
      "text/plain": [
       "<Figure size 640x480 with 1 Axes>"
      ]
     },
     "metadata": {},
     "output_type": "display_data"
    }
   ],
   "source": [
    "# yn = 5 + 3x1 - 4x2\n",
    "\n",
    "print('a) if x1 increases by 1 unit and x2 stays constant yhat will increase by 3 units\\nfor x2 states the same other way around, so will decrease by 4 units')\n",
    "x = []\n",
    "y = []\n",
    "for i in range(1,10):\n",
    "    functie = 5 + 30 -4*i\n",
    "    y.append(functie)\n",
    "    x.append(i)\n",
    "    plt.plot(x,y)\n",
    "    plt.xlabel('x')\n",
    "    plt.ylabel('y')\n",
    "    plt.title('yhat = 35 -4x2')\n",
    "\n",
    "print('e) by increasing x1 the starting point will be higher on the y-axis')\n",
    "\n"
   ]
  },
  {
   "cell_type": "markdown",
   "id": "ef02e9b4",
   "metadata": {},
   "source": [
    "## Opdracht 7"
   ]
  },
  {
   "cell_type": "code",
   "execution_count": 4,
   "id": "6cd782e1",
   "metadata": {},
   "outputs": [
    {
     "name": "stdout",
     "output_type": "stream",
     "text": [
      "R2 adjustes with R2 = 0.653 = 2.024480\n",
      "F-statstic F0 = 13.771513\n",
      "R2 adjustes with R2 = 0.655 = 2.018400\n"
     ]
    }
   ],
   "source": [
    "k = 3\n",
    "n = 25\n",
    "R2 = 0.663\n",
    "\n",
    "# Compute R2adj R2 = 0.663\n",
    "R2adj = 1 - ((n-1)/n-k-1)*(1-R2)\n",
    "\n",
    "print(f'R2 adjustes with R2 = 0.653 = {R2adj:4f}')\n",
    "\n",
    "#Compute F-test\n",
    "F0 = R2/(1-R2) * (n-k-1)/k\n",
    "\n",
    "print(f'F-statstic F0 = {F0:4f}')\n",
    "\n",
    "R2 = 0.663\n",
    "\n",
    "# Compute R2adj R2 = 0.665\n",
    "R2 = 0.665\n",
    "R2adj = 1 - ((n-1)/n-k-1)*(1-R2)\n",
    "\n",
    "print(f'R2 adjustes with R2 = 0.655 = {R2adj:4f}')\n",
    "# Je zou deze extra variable niet toevoegen, want met de extravariable\n",
    "# Wordt de variante minder goed verklaard, wat terug te zien is in de dalende\n",
    "# Waarde van R2adj"
   ]
  },
  {
   "cell_type": "markdown",
   "id": "9a36282a",
   "metadata": {},
   "source": [
    "## Opdracht 9"
   ]
  },
  {
   "cell_type": "code",
   "execution_count": 5,
   "id": "864a50aa",
   "metadata": {},
   "outputs": [
    {
     "name": "stdout",
     "output_type": "stream",
     "text": [
      "          x1        x2        x3         y\n",
      "x1  1.000000 -0.459829  0.182865 -0.747863\n",
      "x2 -0.459829  1.000000 -0.011583  0.787923\n",
      "x3  0.182865 -0.011583  1.000000  0.258229\n",
      "y  -0.747863  0.787923  0.258229  1.000000\n",
      "\n",
      "a) Rule of thumb: correlation < -0.7 or > 0.7\n",
      "So there is nu multicorrelation between x1,x2 and x3\n",
      "\n",
      "b) b0 = 7.964700\n",
      "b1 = -0.103538\n",
      "b2 = 0.935911\n",
      "b3 = 0.115239\n",
      "\n",
      "c) P-value = 0.00046167204022433005 < alpha = 0.05\n",
      "Dus H0 wordt verworpen \n",
      "\n",
      "d) We zien dat voor alle variable geldt pvalue < 0.05 dus H0 wordt verworpen Intercept    0.000006\n",
      "x1           0.002509\n",
      "x2           0.003385\n",
      "x3           0.011165\n",
      "dtype: float64\n"
     ]
    }
   ],
   "source": [
    "inputvalues = {\n",
    "    'x1':[0.8,3.9,1.8,5.1,4.9,8.4,12.9,6.0,14.6,9.3],\n",
    "    'x2':[2.8,2.6,2.4,2.3,2.5,2.1,2.3,2.0,2.2,1.1],\n",
    "    'x3':[2.5,5.7,7.8,7.1,5.9,8.6,9.2,1.2,3.7,5.5],\n",
    "    'y':[11,10.8,10.6,10.3,10.3,10.3,10,9.4,8.7,8.7]\n",
    "}\n",
    "\n",
    "# Construct dataframe\n",
    "data = pd.DataFrame(inputvalues)\n",
    "\n",
    "# Check correlation\n",
    "print(data.corr())\n",
    "\n",
    "print('\\na) Rule of thumb: correlation < -0.7 or > 0.7\\nSo there is nu multicorrelation between x1,x2 and x3')\n",
    "\n",
    "# Create model\n",
    "model = ols('y ~ x1 + x2 + x3', data = data).fit()\n",
    "\n",
    "# Intercept model data\n",
    "b0,b1,b2,b3 = model.params.values\n",
    "print(f'\\nb) b0 = {b0:4f}\\nb1 = {b1:4f}\\nb2 = {b2:4f}\\nb3 = {b3:4f}')\n",
    "\n",
    "\n",
    "# Perform F-test \n",
    "pvalue = model.f_pvalue\n",
    "print(f'\\nc) P-value = {pvalue} < alpha = 0.05\\nDus H0 wordt verworpen ')\n",
    "\n",
    "print(f'\\nd) We zien dat voor alle variable geldt pvalue < 0.05 dus H0 wordt verworpen {model.pvalues}')\n"
   ]
  },
  {
   "cell_type": "markdown",
   "id": "816f96e6",
   "metadata": {},
   "source": [
    "## Opdracht 10"
   ]
  },
  {
   "cell_type": "code",
   "execution_count": 6,
   "id": "f162d0a3",
   "metadata": {},
   "outputs": [
    {
     "name": "stdout",
     "output_type": "stream",
     "text": [
      "          x1        x2        x3         y\n",
      "x1  1.000000 -0.424070  0.518130  0.344354\n",
      "x2 -0.424070  1.000000 -0.637916 -0.854272\n",
      "x3  0.518130 -0.637916  1.000000  0.821000\n",
      "y   0.344354 -0.854272  0.821000  1.000000\n",
      "\n",
      "a) Rule of thumb: correlation < -0.7 or > 0.7\n",
      "So there is nu multicorrelation between x1,x2 and x3\n",
      "\n",
      "b) b0 = 98.872423\n",
      "b1 = -0.301298\n",
      "b2 = -2.045573\n",
      "b3 = 0.736976\n",
      "\n",
      "c) P-value = 0.003345 < alpha = 0.05\n",
      "Dus H0 wordt verworpen \n",
      "\n",
      "d) We zien dat voor alle variable geldt pvalue < 0.05 behalve voor x1 dus H0 wordt niet verworpen Intercept    0.000224\n",
      "x1           0.303004\n",
      "x2           0.018538\n",
      "x3           0.031175\n",
      "dtype: float64\n",
      "\n",
      "e) P-value = 0.001072 < alpha = 0.05\n",
      "Dus H0 wordt verworpen \n",
      "\n",
      " We zien nu dat voor alle variable geldt pvalue < 0.05 H0 wordt verworpen Intercept    0.000042\n",
      "x2           0.019484\n",
      "x3           0.039862\n",
      "dtype: float64\n"
     ]
    }
   ],
   "source": [
    "inputvalues = {\n",
    "    'x1': [24.9,26.7,30.6,39.6,33.1,41.1,25.4,33.8,23.5,39.8],\n",
    "    'x2': [13.5,15.7,13.8,8.8,10.6,9.7,9.8,6.8,7.5,6.8],\n",
    "    'x3': [3.7,11.4,15.7,8.8,18.3,21.8,16.4,25.9,15.5,30.8],\n",
    "    'y': [59.8,66.3,76.5,77.1,81.9,84.6,87.3,88.5,90.7,93.4]\n",
    "}\n",
    "\n",
    "data = pd.DataFrame(inputvalues)\n",
    "data.corr()\n",
    "\n",
    "# Check correlation\n",
    "print(data.corr())\n",
    "\n",
    "print('\\na) Rule of thumb: correlation < -0.7 or > 0.7\\nSo there is nu multicorrelation between x1,x2 and x3')\n",
    "\n",
    "# Create model\n",
    "model = ols('y ~ x1 + x2 + x3', data = data).fit()\n",
    "\n",
    "# Intercept model data\n",
    "b0,b1,b2,b3 = model.params.values\n",
    "print(f'\\nb) b0 = {b0:4f}\\nb1 = {b1:4f}\\nb2 = {b2:4f}\\nb3 = {b3:4f}')\n",
    "\n",
    "\n",
    "# Perform F-test \n",
    "pvalue = model.f_pvalue\n",
    "print(f'\\nc) P-value = {pvalue:4F} < alpha = 0.05\\nDus H0 wordt verworpen ')\n",
    "\n",
    "print(f'\\nd) We zien dat voor alle variable geldt pvalue < 0.05 behalve voor x1 dus H0 wordt niet verworpen {model.pvalues}')\n",
    "\n",
    "\n",
    "model = ols('y ~ x2 + x3', data = data).fit()\n",
    "# Perform F-test \n",
    "pvalue = model.f_pvalue\n",
    "print(f'\\ne) P-value = {pvalue:4F} < alpha = 0.05\\nDus H0 wordt verworpen ')\n",
    "\n",
    "print(f'\\n We zien nu dat voor alle variable geldt pvalue < 0.05 H0 wordt verworpen {model.pvalues}')"
   ]
  },
  {
   "cell_type": "markdown",
   "id": "ef4fe5bc",
   "metadata": {},
   "source": [
    "## Opdracht 12"
   ]
  },
  {
   "cell_type": "code",
   "execution_count": 7,
   "id": "d3182fb2",
   "metadata": {},
   "outputs": [
    {
     "name": "stdout",
     "output_type": "stream",
     "text": [
      "          x1        x2        x3        x4         y\n",
      "x1  1.000000 -0.505918 -0.471059 -0.503597 -0.807573\n",
      "x2 -0.505918  1.000000 -0.224670  0.047975  0.251745\n",
      "x3 -0.471059 -0.224670  1.000000  0.073452  0.640189\n",
      "x4 -0.503597  0.047975  0.073452  1.000000  0.382910\n",
      "y  -0.807573  0.251745  0.640189  0.382910  1.000000\n",
      "\n",
      "a) Rule of thumb: correlation < -0.7 or > 0.7\n",
      "So there is nu multicorrelation between x1,x2 and x3\n",
      "b) De f-test suggereert dat we H0 niet moeten verwerpen maar als we naar de\n",
      "t-test kijken dan zou elke variable verwopren moeten worden(Indirect)\n",
      "c) Je blijft over met variable x1 en x2\n",
      "         mean  mean_se  mean_ci_lower  mean_ci_upper  obs_ci_lower  \\\n",
      "0  130.366381  3.20745     123.110626     137.622136    107.069655   \n",
      "\n",
      "   obs_ci_upper  \n",
      "0    153.663106  \n"
     ]
    },
    {
     "name": "stderr",
     "output_type": "stream",
     "text": [
      "C:\\Users\\Youpk\\AppData\\Local\\Packages\\PythonSoftwareFoundation.Python.3.11_qbz5n2kfra8p0\\LocalCache\\local-packages\\Python311\\site-packages\\scipy\\stats\\_axis_nan_policy.py:430: UserWarning: `kurtosistest` p-value may be inaccurate with fewer than 20 observations; only n=12 observations were given.\n",
      "  return hypotest_fun_in(*args, **kwds)\n",
      "C:\\Users\\Youpk\\AppData\\Local\\Packages\\PythonSoftwareFoundation.Python.3.11_qbz5n2kfra8p0\\LocalCache\\local-packages\\Python311\\site-packages\\scipy\\stats\\_axis_nan_policy.py:430: UserWarning: `kurtosistest` p-value may be inaccurate with fewer than 20 observations; only n=12 observations were given.\n",
      "  return hypotest_fun_in(*args, **kwds)\n"
     ]
    }
   ],
   "source": [
    "inputvalues = {\n",
    " 'x1' : [47.3,53.1,56.7,48.8,42.7,44.3,44.5,37.7,36.9,28.1,32,34.7],\n",
    " 'x2' : [0.9,0.8,0.8,0.5,1.1,1.1,.7,.7,1,1.8,0.8,0.8],\n",
    " 'x3' : [4,6,4,7,7,6,8,7,5,6,8,10],\n",
    " 'x4' : [76,55,65,67,74,76,68,79,73,68,81,68],\n",
    " 'y' : [105.5,113.8,115.2,118.9,148.9,120.2,121.6,140,141.5,141.9,152.8,156.5]\n",
    "}\n",
    "data = pd.DataFrame(inputvalues)\n",
    "\n",
    "# Check correlation\n",
    "print(data.corr())\n",
    "\n",
    "print('\\na) Rule of thumb: correlation < -0.7 or > 0.7\\nSo there is nu multicorrelation between x1,x2 and x3')\n",
    "\n",
    "\n",
    "model = ols('y ~ x1 + x2 + x3 + x4',data = data).fit()\n",
    "model.summary()\n",
    "print('b) De f-test suggereert dat we H0 niet moeten verwerpen maar als we naar de\\nt-test kijken dan zou elke variable verwopren moeten worden(Indirect)')\n",
    "\n",
    "model = ols('y ~ x1 + x3',data = data).fit()\n",
    "model.summary()\n",
    "print('c) Je blijft over met variable x1 en x2')\n",
    "\n",
    "new_data = pd.DataFrame({\n",
    "    'x1': [44.3],\n",
    "    'x2': [1.1],\n",
    "    'x3': [7],\n",
    "    'x4': [69]\n",
    "})\n",
    "\n",
    "prediction = model.get_prediction(new_data)\n",
    "print(prediction.summary_frame(alpha=0.05))\n"
   ]
  },
  {
   "cell_type": "markdown",
   "id": "ba342d69",
   "metadata": {},
   "source": [
    "## Opdracht 15"
   ]
  },
  {
   "cell_type": "code",
   "execution_count": 8,
   "id": "1fd03fef",
   "metadata": {},
   "outputs": [
    {
     "name": "stdout",
     "output_type": "stream",
     "text": [
      "\n",
      "b) b0 = 219.291433\n",
      "b1 = -1.838784\n",
      "b2 = -11.163749\n"
     ]
    }
   ],
   "source": [
    "inputvalues = {\n",
    " 'x1' : [15,15,15,0,0,-5,-5,-10,-10,-15,-15,-15,5,10],\n",
    " 'x2' : [10,15,25,5,20,10,25,15,20,25,35,50,40,45],\n",
    " 'y' : [3,0,-4,-11,-22,-22,-31,-32,-35,-44,-48,-52,-22,-16]\n",
    "}\n",
    "\n",
    "# Create model\n",
    "model = ols('y ~ x1 + x2 ', data = data).fit()\n",
    "\n",
    "# Intercept model data\n",
    "b0,b1,b2 = model.params.values\n",
    "print(f'\\nb) b0 = {b0:4f}\\nb1 = {b1:4f}\\nb2 = {b2:4f}')\n"
   ]
  },
  {
   "cell_type": "code",
   "execution_count": 9,
   "id": "18ee9515",
   "metadata": {},
   "outputs": [
    {
     "data": {
      "image/png": "[encoded data removed]",
      "text/plain": [
       "<Figure size 600x400 with 1 Axes>"
      ]
     },
     "metadata": {},
     "output_type": "display_data"
    },
    {
     "data": {
      "image/png": "[encoded data removed]",
      "text/plain": [
       "<Figure size 600x400 with 1 Axes>"
      ]
     },
     "metadata": {},
     "output_type": "display_data"
    },
    {
     "data": {
      "image/png": "[encoded data removed]",
      "text/plain": [
       "<Figure size 600x400 with 1 Axes>"
      ]
     },
     "metadata": {},
     "output_type": "display_data"
    }
   ],
   "source": [
    "import matplotlib.pyplot as plt\n",
    "\n",
    "# Residuals ophalen\n",
    "residuals = model.resid\n",
    "fitted = model.fittedvalues\n",
    "\n",
    "# Residuals vs Fitted\n",
    "plt.figure(figsize=(6,4))\n",
    "plt.scatter(fitted, residuals)\n",
    "plt.axhline(0, color='red', linestyle='--')\n",
    "plt.xlabel(\"Fitted values\")\n",
    "plt.ylabel(\"Residuals\")\n",
    "plt.title(\"Residuals vs Fitted\")\n",
    "plt.show()\n",
    "\n",
    "# Residuals vs Temperature (x1)\n",
    "plt.figure(figsize=(6,4))\n",
    "plt.scatter(data['x1'], residuals)\n",
    "plt.axhline(0, color='red', linestyle='--')\n",
    "plt.xlabel(\"Temperature (x1)\")\n",
    "plt.ylabel(\"Residuals\")\n",
    "plt.title(\"Residuals vs Temperature\")\n",
    "plt.show()\n",
    "\n",
    "# Residuals vs Wind speed (x2)\n",
    "plt.figure(figsize=(6,4))\n",
    "plt.scatter(data['x2'], residuals)\n",
    "plt.axhline(0, color='red', linestyle='--')\n",
    "plt.xlabel(\"Wind speed (x2)\")\n",
    "plt.ylabel(\"Residuals\")\n",
    "plt.title(\"Residuals vs Wind speed\")\n",
    "plt.show()\n"
   ]
  },
  {
   "cell_type": "markdown",
   "id": "4b53f88c",
   "metadata": {},
   "source": [
    "## Opdracht 17"
   ]
  },
  {
   "cell_type": "code",
   "execution_count": 10,
   "id": "7f7fbcc0",
   "metadata": {},
   "outputs": [
    {
     "name": "stdout",
     "output_type": "stream",
     "text": [
      "         mean     mean_se  mean_ci_lower  mean_ci_upper  obs_ci_lower  \\\n",
      "0  4094.07981  182.246587    3673.818427    4514.341192   2802.073277   \n",
      "\n",
      "   obs_ci_upper  \n",
      "0   5386.086342  \n"
     ]
    },
    {
     "name": "stderr",
     "output_type": "stream",
     "text": [
      "C:\\Users\\Youpk\\AppData\\Local\\Packages\\PythonSoftwareFoundation.Python.3.11_qbz5n2kfra8p0\\LocalCache\\local-packages\\Python311\\site-packages\\scipy\\stats\\_axis_nan_policy.py:430: UserWarning: `kurtosistest` p-value may be inaccurate with fewer than 20 observations; only n=11 observations were given.\n",
      "  return hypotest_fun_in(*args, **kwds)\n",
      "C:\\Users\\Youpk\\AppData\\Local\\Packages\\PythonSoftwareFoundation.Python.3.11_qbz5n2kfra8p0\\LocalCache\\local-packages\\Python311\\site-packages\\scipy\\stats\\_axis_nan_policy.py:430: UserWarning: `kurtosistest` p-value may be inaccurate with fewer than 20 observations; only n=11 observations were given.\n",
      "  return hypotest_fun_in(*args, **kwds)\n"
     ]
    }
   ],
   "source": [
    "values = {\n",
    " 'x1' : [4.5,4.25,3,4,3.75,2.5,4,5,4.5,5,2.5],\n",
    " 'x2' : [2330,2640,3360,1770,2590,3080,2050,2220,2240,2510,2250],\n",
    " 'y' : [4025,2535,4985,3890,3810,4685,3765,3350,3610,3875,4475]\n",
    "}\n",
    "data = pd.DataFrame(values)\n",
    "\n",
    "x = data[['x1','x2']]\n",
    "y = data['y']\n",
    "X = sm.add_constant(x)\n",
    "model = sm.OLS(y,X).fit()\n",
    "model.summary()\n",
    "\n",
    "\n",
    "b0,b1,b2 = model.params.values\n",
    "R2 = model.rsquared\n",
    "R2adj = model.rsquared_adj\n",
    "\n",
    "model.summary()\n",
    "# X2 niet goed \n",
    "model = ols('y ~ x1 + x2',data=data).fit()\n",
    "input = {\n",
    "    'x1':[3.5],\n",
    "    'x2':[2450]\n",
    "}\n",
    "\n",
    "new = pd.DataFrame(input)\n",
    "prediction = model.get_prediction(new)\n",
    "print(prediction.summary_frame(alpha=0.05))"
   ]
  },
  {
   "cell_type": "markdown",
   "id": "2e027de5",
   "metadata": {},
   "source": [
    "## Opdracht 18"
   ]
  },
  {
   "cell_type": "code",
   "execution_count": 11,
   "id": "7a4ccd72",
   "metadata": {},
   "outputs": [
    {
     "name": "stdout",
     "output_type": "stream",
     "text": [
      "Model: y = -15.247809 + 1.544909*x1 + 5.568439*x2\n",
      "R2 0.8160037744971356\n",
      "R2adj =  0.7751157243853879\n",
      "0.0004916319658913703 < 0.05 niks aan de hand\n"
     ]
    },
    {
     "name": "stderr",
     "output_type": "stream",
     "text": [
      "C:\\Users\\Youpk\\AppData\\Local\\Packages\\PythonSoftwareFoundation.Python.3.11_qbz5n2kfra8p0\\LocalCache\\local-packages\\Python311\\site-packages\\scipy\\stats\\_axis_nan_policy.py:430: UserWarning: `kurtosistest` p-value may be inaccurate with fewer than 20 observations; only n=12 observations were given.\n",
      "  return hypotest_fun_in(*args, **kwds)\n"
     ]
    },
    {
     "data": {
      "text/html": [
       "<div>\n",
       "<style scoped>\n",
       "    .dataframe tbody tr th:only-of-type {\n",
       "        vertical-align: middle;\n",
       "    }\n",
       "\n",
       "    .dataframe tbody tr th {\n",
       "        vertical-align: top;\n",
       "    }\n",
       "\n",
       "    .dataframe thead th {\n",
       "        text-align: right;\n",
       "    }\n",
       "</style>\n",
       "<table border=\"1\" class=\"dataframe\">\n",
       "  <thead>\n",
       "    <tr style=\"text-align: right;\">\n",
       "      <th></th>\n",
       "      <th>mean</th>\n",
       "      <th>mean_se</th>\n",
       "      <th>mean_ci_lower</th>\n",
       "      <th>mean_ci_upper</th>\n",
       "      <th>obs_ci_lower</th>\n",
       "      <th>obs_ci_upper</th>\n",
       "    </tr>\n",
       "  </thead>\n",
       "  <tbody>\n",
       "    <tr>\n",
       "      <th>0</th>\n",
       "      <td>25.564857</td>\n",
       "      <td>4.425454</td>\n",
       "      <td>15.553785</td>\n",
       "      <td>35.575929</td>\n",
       "      <td>-2.98733</td>\n",
       "      <td>54.117045</td>\n",
       "    </tr>\n",
       "  </tbody>\n",
       "</table>\n",
       "</div>"
      ],
      "text/plain": [
       "        mean   mean_se  mean_ci_lower  mean_ci_upper  obs_ci_lower  \\\n",
       "0  25.564857  4.425454      15.553785      35.575929      -2.98733   \n",
       "\n",
       "   obs_ci_upper  \n",
       "0     54.117045  "
      ]
     },
     "execution_count": 11,
     "metadata": {},
     "output_type": "execute_result"
    }
   ],
   "source": [
    "Values = {\n",
    " 'x1' : [21,14,4,16,12,20,25,8,24,28,4,15],\n",
    " 'x2' : [6,3,8,8,4,4,1,3,12,9,11,4],\n",
    " 'y' : [34.7,17.9,22.7,63.1,33,41.4,20.7,14.6,97.3,72.1,49.1,52]\n",
    "}\n",
    "\n",
    "data = pd.DataFrame(Values)\n",
    "\n",
    "data.corr()\n",
    "# nee\n",
    "\n",
    "model = ols('y ~ x1 + x2',data=data).fit()\n",
    "\n",
    "b0,b1,b2 = model.params.values\n",
    "print(f'Model: y = {b0:4f} + {b1:4f}*x1 + {b2:4f}*x2')\n",
    "\n",
    "residuals = model.resid\n",
    "\n",
    "R2 = model.rsquared\n",
    "R2adj = model.rsquared_adj\n",
    "print('R2',R2)\n",
    "print('R2adj = ', R2adj)\n",
    "\n",
    "\n",
    "pvalue = model.f_pvalue\n",
    "print(f'{pvalue} < 0.05 niks aan de hand')\n",
    "\n",
    "model.summary()\n",
    "# Ook niks aan de hand \n",
    "\n",
    "inputvalues = {\n",
    "    'x1':[12],\n",
    "    'x2':[4]\n",
    "}\n",
    "\n",
    "new = pd.DataFrame(inputvalues)\n",
    "\n",
    "prediction = model.get_prediction(new)\n",
    "prediction.summary_frame(alpha=0.05)"
   ]
  },
  {
   "cell_type": "markdown",
   "id": "31f4f008",
   "metadata": {},
   "source": [
    "## Opdracht 19"
   ]
  },
  {
   "cell_type": "code",
   "execution_count": null,
   "id": "031e7c7e",
   "metadata": {},
   "outputs": [],
   "source": []
  },
  {
   "cell_type": "markdown",
   "id": "52690ec4",
   "metadata": {},
   "source": [
    "## Opdracht 20"
   ]
  },
  {
   "cell_type": "code",
   "execution_count": null,
   "id": "bd51c346",
   "metadata": {},
   "outputs": [],
   "source": [
    "# Je kan dan nog steeds hebben dat er minstens een bi gelijk is aan nul\n",
    "# Daarom volgen we dit ook nog op met de f-test"
   ]
  },
  {
   "cell_type": "markdown",
   "id": "22b36dc8",
   "metadata": {},
   "source": [
    "## Opdracht 22"
   ]
  },
  {
   "cell_type": "code",
   "execution_count": 14,
   "id": "e739bf4b",
   "metadata": {},
   "outputs": [],
   "source": [
    "# Je kan beter R2 ADj gebruiken, omdat deze corrigeert voor het feit dat er meerdere variable toegevoegd worden\n",
    "# Bij R2 is het namelijk zo dat hij omhoog gaat bij meer variable en lijkt het dus of het model betere variantie heeft\n",
    "# Terwijl dit niet het geval is "
   ]
  }
 ],
 "metadata": {
  "kernelspec": {
   "display_name": "Python 3",
   "language": "python",
   "name": "python3"
  },
  "language_info": {
   "codemirror_mode": {
    "name": "ipython",
    "version": 3
   },
   "file_extension": ".py",
   "mimetype": "text/x-python",
   "name": "python",
   "nbconvert_exporter": "python",
   "pygments_lexer": "ipython3",
   "version": "3.11.9"
  }
 },
 "nbformat": 4,
 "nbformat_minor": 5
}
